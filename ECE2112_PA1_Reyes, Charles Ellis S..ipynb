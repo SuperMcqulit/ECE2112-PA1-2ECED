{
 "cells": [
  {
   "cell_type": "markdown",
   "id": "e9364903-f966-41e6-a79f-d3cd367134bf",
   "metadata": {},
   "source": [
    "## PRACTICE ASSESSMENT 1"
   ]
  },
  {
   "cell_type": "markdown",
   "id": "d908f461-0f47-4d13-87e4-f7f8c34983c3",
   "metadata": {},
   "source": [
    "1) ALPHABET SOUP PROBLEM: Create a function that takes a string and returns a string with its letters \n",
    "in alphabetical order."
   ]
  },
  {
   "cell_type": "markdown",
   "id": "8c6ae306-1dd3-4789-bbcf-c9167640ca84",
   "metadata": {},
   "source": [
    "Example: \n",
    "\n",
    "alphabet_soup(“hello”) ➞ ehllo\n",
    "\r\n",
    "alphabet_soup(“hacker”) ➞ acehkr"
   ]
  },
  {
   "cell_type": "code",
   "execution_count": 180,
   "id": "9057b71a-7bba-48a0-9d8b-6ff4d990636e",
   "metadata": {},
   "outputs": [
    {
     "name": "stdout",
     "output_type": "stream",
     "text": [
      "L R d h l l o o w\n"
     ]
    }
   ],
   "source": [
    "#Start of the program\n",
    "#Use string for the function to collate the letters\n",
    "def word_soup(abc):\n",
    "\n",
    "    #This follow ASCII table, so format would be \"Space - Number - Big letters - small letters\"\n",
    "    #Remove Unnecessary Spaces and Numbers for a Clean Output and show letter/s only\n",
    "    abc = abc.replace(\" \",\"\") ; abc = abc.replace(\"1\",\"\")\n",
    "    abc = abc.replace(\"2\",\"\") ; abc = abc.replace(\"3\",\"\")\n",
    "    abc = abc.replace(\"4\",\"\") ; abc = abc.replace(\"5\",\"\")\n",
    "    abc = abc.replace(\"6\",\"\") ; abc = abc.replace(\"7\",\"\")\n",
    "    abc = abc.replace(\"8\",\"\") ; abc = abc.replace(\"9\",\"\")\n",
    "    abc = abc.replace(\"0\",\"\")\n",
    "\n",
    "    #Output of the Program should be well group, hopefully!\n",
    "    return print(' '.join(sorted(abc)))\n",
    "\n",
    "#Type example word for output\n",
    "abc = \"h3lLo woRld\"\n",
    "word_soup(abc)"
   ]
  },
  {
   "cell_type": "markdown",
   "id": "275c0148-65af-475e-945e-b33906ccfba1",
   "metadata": {},
   "source": [
    "     "
   ]
  },
  {
   "cell_type": "markdown",
   "id": "d9b08e24-ff63-4d5b-8094-d0294b677098",
   "metadata": {},
   "source": [
    "2. EMOTICON PROBLEM: Create a function that changes specific words into emoticons. Given a sentence \n",
    "as a string, replace the words smile, grin, sad and mad with their corresponding emoticon:"
   ]
  },
  {
   "cell_type": "markdown",
   "id": "dd45eb07-0a79-4878-b0c7-036a5f07fc84",
   "metadata": {},
   "source": [
    "Example:\n",
    "\n",
    "emotify(“Make me smile”) ➞ Make me :)\n",
    "\n",
    "emotify(“I am mad”) ➞ I am >:("
   ]
  },
  {
   "cell_type": "code",
   "execution_count": 184,
   "id": "dd8ecaff-2572-4bf2-989a-52b73746d97d",
   "metadata": {},
   "outputs": [
    {
     "name": "stdout",
     "output_type": "stream",
     "text": [
      "Please don't be >:( to how messy my coding is. Im gonna be :(( if this doesn't work.\n"
     ]
    }
   ],
   "source": [
    "#Start of the program\n",
    "#Use string again for the function to input dictionary\n",
    "def emoticonstransform(insideout):\n",
    "    \n",
    "    #Changing the words to figures, using the dictionary\n",
    "    emotie_dict = {\n",
    "        \"smile\": \":)\",\n",
    "        \"grin\": \":D\",\n",
    "        \"sad\": \":((\",\n",
    "        \"mad\": \">:(\"\n",
    "                  }\n",
    "    \n",
    "    #Use split to choose words than sentence\n",
    "    words = insideout.split()\n",
    "    \n",
    "    #Use this to locate word for transformation\n",
    "    wordchange = [emotie_dict[word] \n",
    "                  if word \n",
    "                      in emotie_dict \n",
    "                  else word \n",
    "                      for word \n",
    "                          in words]\n",
    "    \n",
    "    figure = ' '.join(wordchange)\n",
    "\n",
    "    #Output of the Program\n",
    "    return figure\n",
    "\n",
    "#Type example sentence for the output (use the words \"mad, sad, grin, smile in a sentence ;P )\n",
    "insideout = \"Please don't be mad to how messy my coding is. Im gonna be sad if this doesn't work.\"\n",
    "print(emoticonstransform(insideout))\n"
   ]
  },
  {
   "cell_type": "markdown",
   "id": "dcb45580-2c5f-45e7-b38a-6c58b08cb938",
   "metadata": {},
   "source": [
    "   "
   ]
  },
  {
   "cell_type": "markdown",
   "id": "7c313aa8-8922-40ab-a96d-8842892977fc",
   "metadata": {},
   "source": [
    "3. UNPACKING LIST PROBLEM: Unpack the list writeyourcodehere into three variables, being first, \n",
    "middle, and last, with middle being everything in between the first and last element. Then print all thre \r\n",
    "variables."
   ]
  },
  {
   "cell_type": "markdown",
   "id": "1286517c-904a-40b2-a2e6-b272c3b6fca5",
   "metadata": {},
   "source": [
    "Example: \n",
    "\n",
    "lst = [1, 2, 3, 4, 5, 6]\n",
    "\r\n",
    "Output: first: 1 middle: [2,3,4,5] last: 6"
   ]
  },
  {
   "cell_type": "code",
   "execution_count": 188,
   "id": "f79a87da-0344-4506-a642-6025ab085b80",
   "metadata": {},
   "outputs": [
    {
     "name": "stdout",
     "output_type": "stream",
     "text": [
      "First:  1 Middle:  [2, 3, 4, 5] Last:  6\n"
     ]
    }
   ],
   "source": [
    "#Start of the program\n",
    "#Use string for the function to input list\n",
    "def choosenumber(num):\n",
    "\n",
    "    #Unpack the list into first, middle, and last (variables)\n",
    "    first = num[0]\n",
    "    middle = num[1:-1]\n",
    "    last = num[-1]\n",
    "\n",
    "    # Print the variables\n",
    "    return print(\"First: \",first, \"Middle: \",middle, \"Last: \",last)\n",
    "\n",
    "num = [1,2,3,4,5,6]\n",
    "choosenumber(num)"
   ]
  }
 ],
 "metadata": {
  "kernelspec": {
   "display_name": "Python 3 (ipykernel)",
   "language": "python",
   "name": "python3"
  },
  "language_info": {
   "codemirror_mode": {
    "name": "ipython",
    "version": 3
   },
   "file_extension": ".py",
   "mimetype": "text/x-python",
   "name": "python",
   "nbconvert_exporter": "python",
   "pygments_lexer": "ipython3",
   "version": "3.12.4"
  }
 },
 "nbformat": 4,
 "nbformat_minor": 5
}
